{
 "cells": [
  {
   "cell_type": "code",
   "execution_count": 1,
   "id": "bb7f7a50-a573-4e55-8ff0-668c02ba4a98",
   "metadata": {},
   "outputs": [],
   "source": [
    "import pynetbox\n",
    "import easysnmp\n",
    "import re\n",
    "import os\n",
    "import ipaddress\n",
    "import paramiko"
   ]
  },
  {
   "cell_type": "code",
   "execution_count": 10,
   "id": "ad6f2e49-ce7a-4bd7-972e-4cbbbf3cf0f7",
   "metadata": {},
   "outputs": [],
   "source": [
    "key = os.environ['NETBOX_TOKEN']\n",
    "nb = pynetbox.api(\n",
    "    'https://netbox.rc.umass.edu/',\n",
    "    token=key\n",
    ")\n",
    "ssh_client = paramiko.SSHClient()\n",
    "ssh_user = os.environ['SSH_USER']\n",
    "router_prefix = \"2001:48e8:6401::/64\""
   ]
  },
  {
   "cell_type": "code",
   "execution_count": 11,
   "id": "9c032e01-3c52-4f5a-b162-436e7897cd8e",
   "metadata": {},
   "outputs": [],
   "source": [
    "#copied from wido/mac2eui64.py\n",
    "def mac2eui64(mac, prefix=None):\n",
    "    '''\n",
    "    Convert a MAC address to a EUI64 address\n",
    "    or, with prefix provided, a full IPv6 address\n",
    "    '''\n",
    "    # http://tools.ietf.org/html/rfc4291#section-2.5.1\n",
    "    eui64 = re.sub(r'[.:-]', '', mac).lower()\n",
    "    eui64 = eui64[0:6] + 'fffe' + eui64[6:]\n",
    "    eui64 = hex(int(eui64[0:2], 16) ^ 2)[2:].zfill(2) + eui64[2:]\n",
    "\n",
    "    if prefix is None:\n",
    "        return ':'.join(re.findall(r'.{4}', eui64))\n",
    "    else:\n",
    "        try:\n",
    "            net = ipaddress.ip_network(prefix, strict=False)\n",
    "            euil = int('0x{0}'.format(eui64), 16)\n",
    "            return str(net[euil])\n",
    "        except:  # pylint: disable=bare-except\n",
    "            return"
   ]
  },
  {
   "cell_type": "code",
   "execution_count": 12,
   "id": "d30e2eb7-eff5-4892-9062-19d8debf6d04",
   "metadata": {},
   "outputs": [],
   "source": [
    "def getInfo(ip, nb):\n",
    "    mac_3033 = ''\n",
    "    mac_3031 = ''\n",
    "    mac_59 = ''\n",
    "    nic_3031 = ''   \n",
    "    nic_3033 = ''\n",
    "    nic_59 = ''\n",
    "    dev_name = ''\n",
    "    dev_tag = ''\n",
    "    dev_model = ''\n",
    "    ip_query = nb.ipam.ip_addresses.filter(ip)\n",
    "    if (len(ip_query) > 1):\n",
    "        raise Exception(\"More than one IP with this address found\")\n",
    "    device = [i.assigned_object.device for i in ip_query]\n",
    "    device = nb.dcim.devices.get(device[0].id)\n",
    "    dev_name = device.name\n",
    "    dev_tag = device.serial\n",
    "    dev_model = device.device_type\n",
    "    interfaces = nb.dcim.interfaces.filter(device=device)\n",
    "    for interface in interfaces:\n",
    "        ip_interface = nb.ipam.ip_addresses.filter(interface_id=interface.id)\n",
    "        for ip in ip_interface:\n",
    "            subnet = int(ip.address.split('.')[2])\n",
    "            if subnet in [172, 173]:\n",
    "                mac_3031 = interface.mac_address\n",
    "                nic_3031 = interface.name\n",
    "            elif subnet in [174, 175]:\n",
    "                mac_3033 = interface.mac_address\n",
    "                nic_3033 = interface.name\n",
    "            elif subnet in [44, 45]:\n",
    "                mac_59 = interface.mac_address\n",
    "                nic_59 = interface.name\n",
    "    ipv6_59 =  mac2eui64(mac_59, router_prefix)\n",
    "    print(mac_3031, nic_3031, mac_3033, nic_3033, mac_59, nic_59, ipv6_59, dev_name, dev_tag, dev_model)"
   ]
  },
  {
   "cell_type": "code",
   "execution_count": 13,
   "id": "a647b4d9-9f80-43b8-afde-72f910a92441",
   "metadata": {},
   "outputs": [],
   "source": [
    "def getInternalPorts(rack, client, user):\n",
    "    p_mac = re.compile(r'(?:[0-9a-fA-F]:?){12}')\n",
    "    p_port = re.compile(r'(?:xe|ge)-\\d+/\\d+/\\d+')\n",
    "    p_vlan = re.compile(r'(?:mghpcc-atlas-mgmt-1|mghpcc-net2-mgmt|net2-openshift-prov-1)')\n",
    "    vlan_dict = {'mghpcc-atlas-mgmt-1': 58, 'mghpcc-net2-mgmt': 3031, 'net2-openshift-prov-1': 3033}\n",
    "    if rack=='13':\n",
    "    \n",
    "        # Automatically add the host key\n",
    "        client.set_missing_host_key_policy(paramiko.AutoAddPolicy())\n",
    "    \n",
    "        try:\n",
    "            client.connect(hostname='172.20.170.10', username=user)\n",
    "\n",
    "            stdin, stdout, stderr = client.exec_command('show ethernet-switching table brief')\n",
    "            \n",
    "            output = stdout.read().decode()\n",
    "            macs = re.findall(p_mac, output)\n",
    "            ports = re.findall(p_port, output)\n",
    "            vlans = re.findall(p_vlan, output)\n",
    "            return dict(zip(macs, ports)), dict(zip(macs, [vlan_dict[i] for i in vlans]))\n",
    "            \n",
    "        finally:\n",
    "            # Close the SSH client\n",
    "            client.close()"
   ]
  },
  {
   "cell_type": "code",
   "execution_count": 18,
   "id": "1eacdff5-a0ba-481e-aba1-24c761049a18",
   "metadata": {},
   "outputs": [],
   "source": [
    "def getPublicPorts(rack, client, user):\n",
    "    p_mac = re.compile(r'(?:[0-9a-fA-F]:?){12}')\n",
    "    p_port = re.compile(r'ethernet\\d+/\\d+/\\d+')\n",
    "    p_vlan = re.compile(r'\\b(?:58|59|3031|3033|3034)\\b')\n",
    "    vlan_dict = {'mghpcc-atlas-mgmt-1': 58, 'mghpcc-net2-mgmt': 3031, 'net2-openshift-prov-1': 3033}\n",
    "    if rack=='13':\n",
    "    \n",
    "        # Automatically add the host key\n",
    "        client.set_missing_host_key_policy(paramiko.AutoAddPolicy())\n",
    "    \n",
    "        try:\n",
    "            client.connect(hostname='172.20.170.11', username=user)\n",
    "\n",
    "            stdin, stdout, stderr = client.exec_command('show mac address-table')\n",
    "            \n",
    "            output = stdout.read().decode()\n",
    "            macs = re.findall(p_mac, output)\n",
    "            ports = re.findall(p_port, output)\n",
    "            vlans = re.findall(p_vlan, output)\n",
    "            return dict(zip(macs, ports)), dict(zip(macs, vlans))\n",
    "            \n",
    "        finally:\n",
    "            # Close the SSH client\n",
    "            client.close()"
   ]
  },
  {
   "cell_type": "code",
   "execution_count": 15,
   "id": "f45cef9c-dba9-465b-943d-79985d00e72f",
   "metadata": {},
   "outputs": [],
   "source": [
    "def getInterfaces(ip, model):\n",
    "    if 'abc-p' in model:\n",
    "        nic_names = ['BMC']\n",
    "        mac = easysnmp.snmp_get('1.3.6.1.2.1.2.2.1.6.2', hostname=ip, community='public', version=2).value.encode(\"latin-1\").hex()\n",
    "        mac = ':'.join(str(mac)[i:i+2] for i in range(0,len(str(mac)),2))\n",
    "        nic_phys = [mac]\n",
    "        nic_names.append(easysnmp.snmp_get('1.3.6.1.4.1.674.10892.5.4.1100.90.1.30.1.1', hostname=ip, community='public', version=2).value)\n",
    "        nic_names.append(easysnmp.snmp_get('1.3.6.1.4.1.674.10892.5.4.1100.90.1.30.1.2', hostname=ip, community='public', version=2).value)\n",
    "        nic_names.append(easysnmp.snmp_get('1.3.6.1.4.1.674.10892.5.4.1100.90.1.30.1.3', hostname=ip, community='public', version=2).value)\n",
    "        nic_names.append(easysnmp.snmp_get('1.3.6.1.4.1.674.10892.5.4.1100.90.1.30.1.4', hostname=ip, community='public', version=2).value)\n",
    "        mac = easysnmp.snmp_get('1.3.6.1.4.1.674.10892.5.4.1100.90.1.15.1.1', hostname=ip, community='public', version=2).value.encode(\"latin-1\").hex()\n",
    "        nic_phys.append(':'.join(str(mac)[i:i+2] for i in range(0,len(str(mac)),2)))     \n",
    "        mac = easysnmp.snmp_get('1.3.6.1.4.1.674.10892.5.4.1100.90.1.15.1.2', hostname=ip, community='public', version=2).value.encode(\"latin-1\").hex()\n",
    "        nic_phys.append(':'.join(str(mac)[i:i+2] for i in range(0,len(str(mac)),2)))     \n",
    "        mac = easysnmp.snmp_get('1.3.6.1.4.1.674.10892.5.4.1100.90.1.15.1.3', hostname=ip, community='public', version=2).value.encode(\"latin-1\").hex()\n",
    "        nic_phys.append(':'.join(str(mac)[i:i+2] for i in range(0,len(str(mac)),2)))     \n",
    "        mac = easysnmp.snmp_get('1.3.6.1.4.1.674.10892.5.4.1100.90.1.15.1.4', hostname=ip, community='public', version=2).value.encode(\"latin-1\").hex()\n",
    "        nic_phys.append(':'.join(str(mac)[i:i+2] for i in range(0,len(str(mac)),2)))\n",
    "        return dict(zip(nic_phys, nic_names))\n",
    "    elif 'abc-q' in model:\n",
    "        nic_names = ['BMC']\n",
    "        mac = easysnmp.snmp_get('1.3.6.1.2.1.2.2.1.6.2', hostname=ip, community='public', version=2).value.encode(\"latin-1\").hex()\n",
    "        mac = ':'.join(str(mac)[i:i+2] for i in range(0,len(str(mac)),2))\n",
    "        nic_phys = [mac]\n",
    "        nic_names.append(easysnmp.snmp_get('1.3.6.1.4.1.674.10892.5.4.1100.90.1.30.1.1', hostname=ip, community='public', version=2).value)\n",
    "        nic_names.append(easysnmp.snmp_get('1.3.6.1.4.1.674.10892.5.4.1100.90.1.30.1.2', hostname=ip, community='public', version=2).value)\n",
    "        nic_names.append(easysnmp.snmp_get('1.3.6.1.4.1.674.10892.5.4.1100.90.1.30.1.3', hostname=ip, community='public', version=2).value)\n",
    "        nic_names.append(easysnmp.snmp_get('1.3.6.1.4.1.674.10892.5.4.1100.90.1.30.1.4', hostname=ip, community='public', version=2).value)\n",
    "        mac = easysnmp.snmp_get('1.3.6.1.4.1.674.10892.5.4.1100.90.1.15.1.1', hostname=ip, community='public', version=2).value.encode(\"latin-1\").hex()\n",
    "        nic_phys.append(':'.join(str(mac)[i:i+2] for i in range(0,len(str(mac)),2)))     \n",
    "        mac = easysnmp.snmp_get('1.3.6.1.4.1.674.10892.5.4.1100.90.1.15.1.2', hostname=ip, community='public', version=2).value.encode(\"latin-1\").hex()\n",
    "        nic_phys.append(':'.join(str(mac)[i:i+2] for i in range(0,len(str(mac)),2)))     \n",
    "        mac = easysnmp.snmp_get('1.3.6.1.4.1.674.10892.5.4.1100.90.1.15.1.3', hostname=ip, community='public', version=2).value.encode(\"latin-1\").hex()\n",
    "        nic_phys.append(':'.join(str(mac)[i:i+2] for i in range(0,len(str(mac)),2)))     \n",
    "        mac = easysnmp.snmp_get('1.3.6.1.4.1.674.10892.5.4.1100.90.1.15.1.4', hostname=ip, community='public', version=2).value.encode(\"latin-1\").hex()\n",
    "        nic_phys.append(':'.join(str(mac)[i:i+2] for i in range(0,len(str(mac)),2)))\n",
    "        return dict(zip(nic_phys, nic_names))        "
   ]
  },
  {
   "cell_type": "code",
   "execution_count": 16,
   "id": "ac2b9c19-8d9a-4158-813a-cc9b82226b40",
   "metadata": {},
   "outputs": [
    {
     "name": "stdout",
     "output_type": "stream",
     "text": [
      "B0:7B:25:F0:BB:F0 BMC B0:7B:25:DE:4E:60 NIC.Embedded.1-1-1 5C:6F:69:7C:79:C0 NIC.Integrated.1-1-1 2001:48e8:6401:0:5e6f:69ff:fe7c:79c0 NET2-node106 DW9RKM3 PowerEdge R6525\n",
      "None\n"
     ]
    }
   ],
   "source": [
    "print(getInfo('172.20.173.106', nb))"
   ]
  },
  {
   "cell_type": "code",
   "execution_count": 19,
   "id": "891b282a-1af5-4aa7-954b-1af871dcb7c2",
   "metadata": {},
   "outputs": [
    {
     "name": "stdout",
     "output_type": "stream",
     "text": [
      "b0:7b:25:f0:bb:f0 BMC ge-0/0/31 3031\n",
      "b0:7b:25:de:4e:60 NIC.Embedded.1-1-1 ge-0/0/9 3033\n",
      "5c:6f:69:7c:79:c1 NIC.Integrated.1-2-1\n",
      "5c:6f:69:7c:79:c0 NIC.Integrated.1-1-1 ethernet1/1/37 59\n",
      "b0:7b:25:de:4e:61 NIC.Embedded.2-1-1\n"
     ]
    }
   ],
   "source": [
    "internal_ports, internal_vlans = getInternalPorts('13', ssh_client, ssh_user)\n",
    "public_ports, public_vlans = getPublicPorts('13', ssh_client, ssh_user)\n"
   ]
  },
  {
   "cell_type": "code",
   "execution_count": null,
   "id": "796c9257-17ba-4451-97fa-e7bd641b5a31",
   "metadata": {},
   "outputs": [],
   "source": []
  }
 ],
 "metadata": {
  "kernelspec": {
   "display_name": "Python 3 (ipykernel)",
   "language": "python",
   "name": "python3"
  },
  "language_info": {
   "codemirror_mode": {
    "name": "ipython",
    "version": 3
   },
   "file_extension": ".py",
   "mimetype": "text/x-python",
   "name": "python",
   "nbconvert_exporter": "python",
   "pygments_lexer": "ipython3",
   "version": "3.10.12"
  }
 },
 "nbformat": 4,
 "nbformat_minor": 5
}
